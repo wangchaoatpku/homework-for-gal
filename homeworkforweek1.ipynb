{
 "cells": [
  {
   "cell_type": "code",
   "execution_count": 1,
   "metadata": {
    "collapsed": true
   },
   "outputs": [],
   "source": [
    "import matplotlib.pyplot as plt\n",
    "import numpy as np\n",
    "from astropy.io import fits\n",
    "from scipy.ndimage import gaussian_filter\n",
    "\n",
    "# Create empty image\n",
    "nx, ny = 512, 512\n",
    "image = np.zeros((ny, nx))\n",
    "\n",
    "# Set number of stars\n",
    "n = 10000\n",
    "\n",
    "# Generate random positions\n",
    "r = np.random.random(n) * nx\n",
    "theta = np.random.uniform(0., 2. * np.pi, n)\n",
    "\n",
    "# Generate random fluxes\n",
    "f = np.random.random(n) ** 2\n",
    "\n",
    "# Compute position\n",
    "x = nx / 2 + r * np.cos(theta)\n",
    "y = ny / 2 + r * np.sin(theta)\n",
    "\n",
    "# Add stars to image\n",
    "# ==> First for loop and if statement <==\n",
    "for i in range(n):\n",
    "    if x[i] >= 0 and x[i] < nx and y[i] >= 0 and y[i] < ny:\n",
    "        image[int(y[i]), int(x[i])] += f[i]\n",
    "\n",
    "\n",
    "# Convolve with a gaussian\n",
    "image = gaussian_filter(image, 1)\n",
    "\n",
    "# Add noise\n",
    "image += np.random.normal(3., 0.01, image.shape)\n",
    "\n",
    "# Write out to FITS image\n",
    "fits.writeto('cluster.fits', image, overwrite=True)"
   ]
  },
  {
   "cell_type": "code",
   "execution_count": 2,
   "metadata": {},
   "outputs": [
    {
     "name": "stdout",
     "output_type": "stream",
     "text": [
      " [Failed]\n",
      "Downloading https://raw.githubusercontent.com/python4astronomers/python4astronomers/stable/examples/tables/fermi_agn.dat [Done]\n",
      "Downloading https://raw.githubusercontent.com/python4astronomers/python4astronomers/stable/examples/tables/fermi_agn.dat [Done]\n"
     ]
    },
    {
     "ename": "OSError",
     "evalue": "[Errno 22] Invalid argument: 'https://raw.githubusercontent.com/python4astronomers/python4astronomers/stable/examples/tables/fermi_agn.dat'",
     "output_type": "error",
     "traceback": [
      "\u001b[1;31m---------------------------------------------------------------------------\u001b[0m",
      "\u001b[1;31mOSError\u001b[0m                                   Traceback (most recent call last)",
      "\u001b[1;32m<ipython-input-2-1ff463c73a27>\u001b[0m in \u001b[0;36m<module>\u001b[1;34m()\u001b[0m\n\u001b[0;32m      7\u001b[0m \u001b[1;31m# ==> dat[column_name] and dat[row_number] both valid <==\u001b[0m\u001b[1;33m\u001b[0m\u001b[1;33m\u001b[0m\u001b[0m\n\u001b[0;32m      8\u001b[0m \u001b[0mdata_url\u001b[0m \u001b[1;33m=\u001b[0m \u001b[1;34m'https://raw.githubusercontent.com/python4astronomers/python4astronomers/stable/examples/tables/fermi_agn.dat'\u001b[0m\u001b[1;33m\u001b[0m\u001b[0m\n\u001b[1;32m----> 9\u001b[1;33m \u001b[0mdat\u001b[0m \u001b[1;33m=\u001b[0m \u001b[0mascii\u001b[0m\u001b[1;33m.\u001b[0m\u001b[0mread\u001b[0m\u001b[1;33m(\u001b[0m\u001b[0mdata_url\u001b[0m\u001b[1;33m)\u001b[0m\u001b[1;33m\u001b[0m\u001b[0m\n\u001b[0m\u001b[0;32m     10\u001b[0m \u001b[1;33m\u001b[0m\u001b[0m\n\u001b[0;32m     11\u001b[0m \u001b[0mredshift\u001b[0m \u001b[1;33m=\u001b[0m \u001b[0mdat\u001b[0m\u001b[1;33m[\u001b[0m\u001b[1;34m'redshift'\u001b[0m\u001b[1;33m]\u001b[0m    \u001b[1;31m# array of values from 'redshift' column\u001b[0m\u001b[1;33m\u001b[0m\u001b[0m\n",
      "\u001b[1;32mC:\\Users\\chaowang\\Anaconda3\\lib\\site-packages\\astropy\\io\\ascii\\ui.py\u001b[0m in \u001b[0;36mread\u001b[1;34m(table, guess, **kwargs)\u001b[0m\n\u001b[0;32m    320\u001b[0m         \u001b[1;31m# through below to the non-guess way so that any problems result in a\u001b[0m\u001b[1;33m\u001b[0m\u001b[1;33m\u001b[0m\u001b[0m\n\u001b[0;32m    321\u001b[0m         \u001b[1;31m# more useful traceback.\u001b[0m\u001b[1;33m\u001b[0m\u001b[1;33m\u001b[0m\u001b[0m\n\u001b[1;32m--> 322\u001b[1;33m         \u001b[0mdat\u001b[0m \u001b[1;33m=\u001b[0m \u001b[0m_guess\u001b[0m\u001b[1;33m(\u001b[0m\u001b[0mtable\u001b[0m\u001b[1;33m,\u001b[0m \u001b[0mnew_kwargs\u001b[0m\u001b[1;33m,\u001b[0m \u001b[0mformat\u001b[0m\u001b[1;33m,\u001b[0m \u001b[0mfast_reader_param\u001b[0m\u001b[1;33m)\u001b[0m\u001b[1;33m\u001b[0m\u001b[0m\n\u001b[0m\u001b[0;32m    323\u001b[0m         \u001b[1;32mif\u001b[0m \u001b[0mdat\u001b[0m \u001b[1;32mis\u001b[0m \u001b[1;32mNone\u001b[0m\u001b[1;33m:\u001b[0m\u001b[1;33m\u001b[0m\u001b[0m\n\u001b[0;32m    324\u001b[0m             \u001b[0mguess\u001b[0m \u001b[1;33m=\u001b[0m \u001b[1;32mFalse\u001b[0m\u001b[1;33m\u001b[0m\u001b[0m\n",
      "\u001b[1;32mC:\\Users\\chaowang\\Anaconda3\\lib\\site-packages\\astropy\\io\\ascii\\ui.py\u001b[0m in \u001b[0;36m_guess\u001b[1;34m(table, read_kwargs, format, fast_reader)\u001b[0m\n\u001b[0;32m    468\u001b[0m             \u001b[0mreader\u001b[0m \u001b[1;33m=\u001b[0m \u001b[0mget_reader\u001b[0m\u001b[1;33m(\u001b[0m\u001b[1;33m**\u001b[0m\u001b[0mguess_kwargs\u001b[0m\u001b[1;33m)\u001b[0m\u001b[1;33m\u001b[0m\u001b[0m\n\u001b[0;32m    469\u001b[0m             \u001b[0mreader\u001b[0m\u001b[1;33m.\u001b[0m\u001b[0mguessing\u001b[0m \u001b[1;33m=\u001b[0m \u001b[1;32mTrue\u001b[0m\u001b[1;33m\u001b[0m\u001b[0m\n\u001b[1;32m--> 470\u001b[1;33m             \u001b[0mdat\u001b[0m \u001b[1;33m=\u001b[0m \u001b[0mreader\u001b[0m\u001b[1;33m.\u001b[0m\u001b[0mread\u001b[0m\u001b[1;33m(\u001b[0m\u001b[0mtable\u001b[0m\u001b[1;33m)\u001b[0m\u001b[1;33m\u001b[0m\u001b[0m\n\u001b[0m\u001b[0;32m    471\u001b[0m             _read_trace.append({'kwargs': guess_kwargs, 'status': 'Success (guessing)',\n\u001b[0;32m    472\u001b[0m                                 'dt': '{0:.3f} ms'.format((time.time() - t0) * 1000)})\n",
      "\u001b[1;32mC:\\Users\\chaowang\\Anaconda3\\lib\\site-packages\\astropy\\io\\ascii\\fastbasic.py\u001b[0m in \u001b[0;36mread\u001b[1;34m(self, table)\u001b[0m\n\u001b[0;32m     98\u001b[0m                                       \u001b[0mdata_start\u001b[0m\u001b[1;33m=\u001b[0m\u001b[0mself\u001b[0m\u001b[1;33m.\u001b[0m\u001b[0mdata_start\u001b[0m\u001b[1;33m,\u001b[0m\u001b[1;33m\u001b[0m\u001b[0m\n\u001b[0;32m     99\u001b[0m                                       \u001b[0mfill_extra_cols\u001b[0m\u001b[1;33m=\u001b[0m\u001b[0mself\u001b[0m\u001b[1;33m.\u001b[0m\u001b[0mfill_extra_cols\u001b[0m\u001b[1;33m,\u001b[0m\u001b[1;33m\u001b[0m\u001b[0m\n\u001b[1;32m--> 100\u001b[1;33m                                       **self.kwargs)\n\u001b[0m\u001b[0;32m    101\u001b[0m         \u001b[0mconversion_info\u001b[0m \u001b[1;33m=\u001b[0m \u001b[0mself\u001b[0m\u001b[1;33m.\u001b[0m\u001b[0m_read_header\u001b[0m\u001b[1;33m(\u001b[0m\u001b[1;33m)\u001b[0m\u001b[1;33m\u001b[0m\u001b[0m\n\u001b[0;32m    102\u001b[0m         \u001b[0mself\u001b[0m\u001b[1;33m.\u001b[0m\u001b[0mcheck_header\u001b[0m\u001b[1;33m(\u001b[0m\u001b[1;33m)\u001b[0m\u001b[1;33m\u001b[0m\u001b[0m\n",
      "\u001b[1;32mastropy/io/ascii/cparser.pyx\u001b[0m in \u001b[0;36mastropy.io.ascii.cparser.CParser.__cinit__ (astropy\\io\\ascii\\cparser.c:4359)\u001b[1;34m()\u001b[0m\n",
      "\u001b[1;32mastropy/io/ascii/cparser.pyx\u001b[0m in \u001b[0;36mastropy.io.ascii.cparser.CParser.setup_tokenizer (astropy\\io\\ascii\\cparser.c:5198)\u001b[1;34m()\u001b[0m\n",
      "\u001b[1;32mastropy/io/ascii/cparser.pyx\u001b[0m in \u001b[0;36mastropy.io.ascii.cparser.FileString.__cinit__ (astropy\\io\\ascii\\cparser.c:2868)\u001b[1;34m()\u001b[0m\n",
      "\u001b[1;31mOSError\u001b[0m: [Errno 22] Invalid argument: 'https://raw.githubusercontent.com/python4astronomers/python4astronomers/stable/examples/tables/fermi_agn.dat'"
     ]
    }
   ],
   "source": [
    "# Make external packages available\n",
    "from astropy.io import ascii\n",
    "import matplotlib.pyplot as plt\n",
    "import numpy as np\n",
    "\n",
    "# Read table.\n",
    "# ==> dat[column_name] and dat[row_number] both valid <==\n",
    "data_url = 'https://raw.githubusercontent.com/python4astronomers/python4astronomers/stable/examples/tables/fermi_agn.dat'\n",
    "dat = ascii.read(data_url)\n",
    "\n",
    "redshift = dat['redshift']    # array of values from 'redshift' column\n",
    "flux = dat['photon_flux']\n",
    "gamma = dat['spectral_index']\n",
    "\n",
    "# Select rows that have a measured redshift\n",
    "with_z = (redshift != -999)\n",
    "\n",
    "plt.figure(1)\n",
    "plt.semilogx(flux, gamma, '.b', label='All')  # First plot!\n",
    "plt.semilogx(flux[with_z], gamma[with_z], 'or', label='With Z')\n",
    "plt.legend(numpoints=1)\n",
    "plt.grid()\n",
    "plt.xlabel('Flux (photon/cm$^2$/s)')   # latex works\n",
    "plt.ylabel('Spectral index $\\Gamma$')\n",
    "plt.show()\n",
    "\n",
    "\n",
    "\n",
    "# Select low- and high-z samples\n",
    "lowz = with_z & (redshift < 0.8)\n",
    "highz = with_z & (redshift >= 0.8)\n",
    "\n",
    "plt.figure(2)\n",
    "bins = np.arange(1.2, 3.0, 0.1)    # values from 1.2 to 3.0 by 0.1\n",
    "plt.hist(gamma[lowz], bins, color='b', alpha=0.5, label='z < 0.8')\n",
    "plt.hist(gamma[highz], bins, color='r', alpha=0.5, label='z > 0.8')\n",
    "plt.xlabel('Spectral index $\\Gamma$')\n",
    "plt.title('$\\Gamma$ for low-z and high-z samples')\n",
    "plt.legend(loc='upper left')\n",
    "plt.show()\n",
    "ascii.write(dat[with_z], 'fermi_agn_with_z.dat')"
   ]
  },
  {
   "cell_type": "code",
   "execution_count": 3,
   "metadata": {},
   "outputs": [
    {
     "name": "stdout",
     "output_type": "stream",
     "text": [
      "Downloading https://raw.githubusercontent.com/python4astronomers/python4astronomers/stable/examples/tables/fermi_agn.dat [Done]\n"
     ]
    },
    {
     "data": {
      "image/png": "[encoded data removed]",
      "text/plain": [
       "<matplotlib.figure.Figure at 0x29d9be79dd8>"
      ]
     },
     "metadata": {},
     "output_type": "display_data"
    },
    {
     "data": {
      "image/png": "[encoded data removed]",
      "text/plain": [
       "<matplotlib.figure.Figure at 0x29d9bfdf128>"
      ]
     },
     "metadata": {},
     "output_type": "display_data"
    },
    {
     "name": "stderr",
     "output_type": "stream",
     "text": [
      "WARNING: AstropyDeprecationWarning: fermi_agn_with_z.dat already exists. Automatically overwriting ASCII files is deprecated. Use the argument 'overwrite=True' in the future. [astropy.io.ascii.ui]\n"
     ]
    }
   ],
   "source": [
    "# Make external packages available\n",
    "from astropy.io import ascii\n",
    "import matplotlib.pyplot as plt\n",
    "import numpy as np\n",
    "\n",
    "# Read table.\n",
    "# ==> dat[column_name] and dat[row_number] both valid <==\n",
    "data_url = 'https://raw.githubusercontent.com/python4astronomers/python4astronomers/stable/examples/tables/fermi_agn.dat'\n",
    "dat = ascii.read(data_url)\n",
    "\n",
    "redshift = dat['redshift']    # array of values from 'redshift' column\n",
    "flux = dat['photon_flux']\n",
    "gamma = dat['spectral_index']\n",
    "\n",
    "# Select rows that have a measured redshift\n",
    "with_z = (redshift != -999)\n",
    "\n",
    "plt.figure(1)\n",
    "plt.semilogx(flux, gamma, '.b', label='All')  # First plot!\n",
    "plt.semilogx(flux[with_z], gamma[with_z], 'or', label='With Z')\n",
    "plt.legend(numpoints=1)\n",
    "plt.grid()\n",
    "plt.xlabel('Flux (photon/cm$^2$/s)')   # latex works\n",
    "plt.ylabel('Spectral index $\\Gamma$')\n",
    "plt.show()\n",
    "\n",
    "\n",
    "\n",
    "# Select low- and high-z samples\n",
    "lowz = with_z & (redshift < 0.8)\n",
    "highz = with_z & (redshift >= 0.8)\n",
    "\n",
    "plt.figure(2)\n",
    "bins = np.arange(1.2, 3.0, 0.1)    # values from 1.2 to 3.0 by 0.1\n",
    "plt.hist(gamma[lowz], bins, color='b', alpha=0.5, label='z < 0.8')\n",
    "plt.hist(gamma[highz], bins, color='r', alpha=0.5, label='z > 0.8')\n",
    "plt.xlabel('Spectral index $\\Gamma$')\n",
    "plt.title('$\\Gamma$ for low-z and high-z samples')\n",
    "plt.legend(loc='upper left')\n",
    "plt.show()\n",
    "ascii.write(dat[with_z], 'fermi_agn_with_z.dat')"
   ]
  },
  {
   "cell_type": "code",
   "execution_count": 4,
   "metadata": {
    "scrolled": true
   },
   "outputs": [
    {
     "name": "stdout",
     "output_type": "stream",
     "text": [
      "Scale =  12.210 +/- 0.680\n",
      "Offset = 3.019 +/- 0.088\n",
      "Sigma =  -1.628 +/- 0.123\n"
     ]
    },
    {
     "name": "stderr",
     "output_type": "stream",
     "text": [
      "C:\\Users\\chaowang\\Anaconda3\\lib\\site-packages\\matplotlib\\axes\\_axes.py:2818: MatplotlibDeprecationWarning: Use of None object as fmt keyword argument to suppress plotting of data values is deprecated since 1.4; use the string \"none\" instead.\n",
      "  warnings.warn(msg, mplDeprecation, stacklevel=1)\n"
     ]
    },
    {
     "data": {
      "image/png": "[encoded data removed]",
      "text/plain": [
       "<matplotlib.figure.Figure at 0x29d9d815b38>"
      ]
     },
     "metadata": {},
     "output_type": "display_data"
    }
   ],
   "source": [
    "import matplotlib.pyplot as plt\n",
    "import numpy as np\n",
    "from scipy.optimize import curve_fit\n",
    "\n",
    "# Create a function\n",
    "# ==> First encounter with *whitespace* in Python <==\n",
    "def gaussian(x, a, b, c):\n",
    "    val = a * np.exp(-(x - b)**2 / c**2)\n",
    "    return val\n",
    "\n",
    "# Generate fake data.\n",
    "# Note: functions in random package, array arithmetic (exp)\n",
    "n = 100\n",
    "x = np.random.uniform(-10., 10., n)\n",
    "y = np.exp(-(x - 3.)**2 / 4) * 10. + np.random.normal(0., 2., n)\n",
    "e = np.random.uniform(0.1, 1., n)\n",
    "# Note: these error bars don't reflect the distribution from which\n",
    "# they were drawn! Chi^2 of the fit will be poor.\n",
    "\n",
    "# Fit\n",
    "popt, pcov = curve_fit(gaussian, x, y, sigma=e)\n",
    "\n",
    "# Print results\n",
    "print(\"Scale =  %.3f +/- %.3f\" % (popt[0], np.sqrt(pcov[0, 0])))\n",
    "print(\"Offset = %.3f +/- %.3f\" % (popt[1], np.sqrt(pcov[1, 1])))\n",
    "print(\"Sigma =  %.3f +/- %.3f\" % (popt[2], np.sqrt(pcov[2, 2])))\n",
    "\n",
    "# Plot data\n",
    "plt.errorbar(x, y, yerr=e, linewidth=1, color='black', fmt=None)\n",
    "\n",
    "# Plot model\n",
    "xm = np.linspace(-10., 10., 100)  # 100 evenly spaced points\n",
    "plt.plot(xm, gaussian(xm, popt[0], popt[1], popt[2]))\n",
    "\n",
    "# Save figure\n",
    "plt.savefig('fit.png')\n",
    "\n",
    "plt.show()"
   ]
  },
  {
   "cell_type": "markdown",
   "metadata": {
    "collapsed": true
   },
   "source": [
    "Question 1 No ,I have 4 number of galaxy classes, my partner have 6 number galaxy classes, he classify the spiral galaxies into 4 classes.\n",
    "Question 2\n",
    "We both have elliptical galaxies, spiral galaxies, spiral galaxie with a bar  and irregular galaxies.\n",
    "The different is he distinct the spiral galaxies into four classes.\n",
    "Question 3\n",
    "I redo the classification, but I insist my idea\n",
    "Question 4 bluer galaxies is located at smaller u-g and g-r ;redder is in bigger\n",
    "Question 5   the early (elliptical) galaxies is located at bigger u-g and g-r(above); the late (spiral) galaxies is lower.\n",
    "Question 6   they are all elliptical. Not at all.\n",
    "Question 7   some are blue (u-r: 1.4~1.7);some are red (u-r : 2.0~2.4)\n",
    "Question 8  blue galaxies is always spiral galaxies, while  red galaxies is always elliptical galaxies.\n",
    "Question 9  strong emission line(H,N,O) and absorption line(Mg, K, Na , Ca)\n",
    "Question 10  blue galaxies is always spiral galaxies with strong emission line(H,N,O), while  red galaxies is always elliptical galaxies with more absorption line(Mg, K, Na , Ca).\n",
    "\n",
    "\n",
    "\n",
    "\n"
   ]
  }
 ],
 "metadata": {
  "kernelspec": {
   "display_name": "Python 3",
   "language": "python",
   "name": "python3"
  },
  "language_info": {
   "codemirror_mode": {
    "name": "ipython",
    "version": 3
   },
   "file_extension": ".py",
   "mimetype": "text/x-python",
   "name": "python",
   "nbconvert_exporter": "python",
   "pygments_lexer": "ipython3",
   "version": "3.6.1"
  }
 },
 "nbformat": 4,
 "nbformat_minor": 2
}
